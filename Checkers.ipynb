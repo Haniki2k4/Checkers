{
  "cells": [
    {
      "cell_type": "markdown",
      "metadata": {
        "id": "view-in-github",
        "colab_type": "text"
      },
      "source": [
        "<a href=\"https://colab.research.google.com/github/Haniki2k4/Checkers/blob/main/Checkers.ipynb\" target=\"_parent\"><img src=\"https://colab.research.google.com/assets/colab-badge.svg\" alt=\"Open In Colab\"/></a>"
      ]
    },
    {
      "cell_type": "markdown",
      "source": [
        "- lỗi pass lượt nếu nhập sai\n",
        "- ăn cờ (trước tiên ăn 1 trc, chưa cần ăn liên tục)\n",
        "- điều kiện đi chéo 1 ô, nhưng đủ điều kiện ăn thì phải đi 2 chứ =))))))\n",
        "- cờ đến cuối bàn -> đổi cách di chuyển\n",
        "-"
      ],
      "metadata": {
        "id": "p658oFKMlQdA"
      }
    },
    {
      "cell_type": "code",
      "execution_count": null,
      "metadata": {
        "id": "VRXWqn3H_LQk"
      },
      "outputs": [],
      "source": [
        "# @title Board\n",
        "\n",
        "from copy import deepcopy\n",
        "import sys\n",
        "\n",
        "def board(data):\n",
        "    show = deepcopy(data)\n",
        "    for i in range(len(data)):\n",
        "        for j in range(len(data[i])):\n",
        "            if data[i][j] == 0:\n",
        "                show[i][j] = \" \"\n",
        "            elif data[i][j] == 1:\n",
        "                show[i][j] = \"x\"\n",
        "            elif data[i][j] == 2:\n",
        "                show[i][j] = \"o\"\n",
        "            else:\n",
        "                raise Exception(\"Error!\")\n",
        "\n",
        "    print(\"   Player 1: x                      Player 2: o\")\n",
        "    print(\" \")\n",
        "    print(f\"|-----|-----|-----|-----|-----|-----|-----|-----|\")\n",
        "    print(f\"|  {show[0][0]}  |  {show[0][1]}  |  {show[0][2]}  |  {show[0][3]}  |  {show[0][4]}  |  {show[0][5]}  |  {show[0][6]}  |  {show[0][7]}  |  0  \")\n",
        "    print(f\"|-----|-----|-----|-----|-----|-----|-----|-----|\")\n",
        "    print(f\"|  {show[1][0]}  |  {show[1][1]}  |  {show[1][2]}  |  {show[1][3]}  |  {show[1][4]}  |  {show[1][5]}  |  {show[1][6]}  |  {show[1][7]}  |  1  \")\n",
        "    print(f\"|-----|-----|-----|-----|-----|-----|-----|-----|\")\n",
        "    print(f\"|  {show[2][0]}  |  {show[2][1]}  |  {show[2][2]}  |  {show[2][3]}  |  {show[2][4]}  |  {show[2][5]}  |  {show[2][6]}  |  {show[2][7]}  |  2  \")\n",
        "    print(f\"|-----|-----|-----|-----|-----|-----|-----|-----|\")\n",
        "    print(f\"|  {show[3][0]}  |  {show[3][1]}  |  {show[3][2]}  |  {show[3][3]}  |  {show[3][4]}  |  {show[3][5]}  |  {show[3][6]}  |  {show[3][7]}  |  3  \")\n",
        "    print(f\"|-----|-----|-----|-----|-----|-----|-----|-----|\")\n",
        "    print(f\"|  {show[4][0]}  |  {show[4][1]}  |  {show[4][2]}  |  {show[4][3]}  |  {show[4][4]}  |  {show[4][5]}  |  {show[4][6]}  |  {show[4][7]}  |  4  \")\n",
        "    print(f\"|-----|-----|-----|-----|-----|-----|-----|-----|\")\n",
        "    print(f\"|  {show[5][0]}  |  {show[5][1]}  |  {show[5][2]}  |  {show[5][3]}  |  {show[5][4]}  |  {show[5][5]}  |  {show[5][6]}  |  {show[5][7]}  |  5  \")\n",
        "    print(f\"|-----|-----|-----|-----|-----|-----|-----|-----|\")\n",
        "    print(f\"|  {show[6][0]}  |  {show[6][1]}  |  {show[6][2]}  |  {show[6][3]}  |  {show[6][4]}  |  {show[6][5]}  |  {show[6][6]}  |  {show[6][7]}  |  6  \")\n",
        "    print(f\"|-----|-----|-----|-----|-----|-----|-----|-----|\")\n",
        "    print(f\"|  {show[7][0]}  |  {show[7][1]}  |  {show[7][2]}  |  {show[7][3]}  |  {show[7][4]}  |  {show[7][5]}  |  {show[7][6]}  |  {show[7][7]}  |  7  \")\n",
        "    print(f\"|-----|-----|-----|-----|-----|-----|-----|-----|\")\n",
        "    print(f\"   0     1     2     3     4     5     6     7   \")"
      ]
    },
    {
      "cell_type": "code",
      "execution_count": null,
      "metadata": {
        "id": "yaFGAD-LHM6q"
      },
      "outputs": [],
      "source": [
        "# @title Move\n",
        "\n",
        "def get_user_move(player):\n",
        "    while True:\n",
        "        print(\" \")\n",
        "        print(\"___________________________________________________\")\n",
        "        print(f\"Lượt của Player {player}:\")\n",
        "        try:\n",
        "            current_row = int(input(\"Nhập hàng hiện tại của quân cờ: \"))\n",
        "            if current_row == 100:\n",
        "                print(f\"Player {player} đã đầu hàng! :<<\")\n",
        "                print(f\"Player {3 - player} là người chiến thắng!\")\n",
        "                # exit()\n",
        "                sys.exit()\n",
        "            current_col = int(input(\"Nhập cột hiện tại của quân cờ: \"))\n",
        "            target_row = int(input(\"Nhập hàng mà bạn muốn di chuyển đến: \"))\n",
        "            target_col = int(input(\"Nhập cột mà bạn muốn di chuyển đến: \"))\n",
        "            if (0 <= current_row < 8) and (0 <= current_col < 8) and (0 <= target_row < 8) and (0 <= target_col < 8):\n",
        "                return current_row, current_col, target_row, target_col\n",
        "            else:\n",
        "                print(\"Nước đi không hợp lệ, vui lòng nhập lại!\")\n",
        "        except ValueError:\n",
        "            print(\"Nước đi không hợp lệ, vui lòng nhập lại!\")\n",
        "\n",
        "def move_piece(data, player, current_row, current_col, target_row, target_col):\n",
        "    global p1_count, p2_count\n",
        "    # Kiểm tra nếu vị trí hiện tại có quân cờ của người chơi\n",
        "    if data[current_row][current_col] == player:\n",
        "        # Gọi hàm is_valid_move() với tất cả các đối số cần thiết\n",
        "        if data[target_row][target_col] == 0 and abs(target_row - current_row) == 2:\n",
        "            if player == 1:\n",
        "                mid_row = current_row + 1\n",
        "                mid_col = int((current_col + target_col) /2)\n",
        "                print(mid_col,mid_row)\n",
        "            else:\n",
        "                mid_row = current_row - 1\n",
        "                mid_col = current_col - 1\n",
        "\n",
        "            if data[mid_row][mid_col] == (3 - player):\n",
        "                if capture_move(data, player, current_row, current_col, target_row, target_col):\n",
        "                    data[target_row][target_col] = player\n",
        "                    data[mid_row][mid_col] = 0\n",
        "                    data[current_row][current_col] = 0\n",
        "                    print(\"Quân cờ đã ăn quân đối phương!\")\n",
        "            elif data[mid_row][mid_col] == player:\n",
        "                print(\"Vị trí đích đã có quân cờ!\")\n",
        "\n",
        "        elif data[target_row][target_col] == 0 and abs(target_row - current_row) == 1:\n",
        "            if is_valid_move(data, player, current_row, current_col, target_row, target_col):\n",
        "           # Di chuyển quân cờ\n",
        "                data[target_row][target_col] = player\n",
        "                data[current_row][current_col] = 0\n",
        "                print(\"Di chuyển thành công!\")\n",
        "\n",
        "        else:\n",
        "            print(\"Di chuyển không thành công!\")\n",
        "\n",
        "        if player == 1:\n",
        "            p1_count += 1\n",
        "        else:\n",
        "            p2_count += 1\n",
        "    else:\n",
        "        print(\"Không có quân cờ của bạn ở vị trí này!\")"
      ]
    },
    {
      "cell_type": "code",
      "execution_count": null,
      "metadata": {
        "id": "a8Ct3ijGoxiq"
      },
      "outputs": [],
      "source": [
        "# @title CONDITION\n",
        "\n",
        "def is_valid_move(data, player, current_row, current_col, target_row, target_col):\n",
        "    # Kiểm tra xem vị trí đích có trống không\n",
        "    if player == 1:  # Nếu là người chơi 1 (quân 'x')            # Kiểm tra xem nước đi có phù hợp không\n",
        "        return (target_row > current_row)\n",
        "    elif player == 2:  # Nếu là người chơi 2 (quân 'o')\n",
        "        return (target_row < current_row)\n",
        "\n",
        "def capture_move(data, player, current_row, current_col, target_row, target_col):\n",
        "        # Kiểm tra vị trí chéo thứ 3 và vị trí đích\n",
        "    if player == 1:\n",
        "        return (target_row > current_row)\n",
        "    elif player == 2:\n",
        "        return (target_row < current_row)\n",
        "\n",
        "\n",
        "def check_win(data, player):\n",
        "    # Đếm số quân cờ của mỗi người chơi\n",
        "    p1_pieces = sum(row.count(1) for row in data)\n",
        "    p2_pieces = sum(row.count(2) for row in data)\n",
        "    # Nếu một trong hai người chơi không còn quân cờ, trả về True\n",
        "    if p1_pieces == 0 or p2_pieces == 0:\n",
        "        return True\n",
        "    return False"
      ]
    },
    {
      "cell_type": "code",
      "execution_count": null,
      "metadata": {
        "id": "4cyrbQHVEzwk",
        "colab": {
          "base_uri": "https://localhost:8080/"
        },
        "outputId": "f509b328-d755-44f4-fce2-98380ea53959"
      },
      "outputs": [
        {
          "output_type": "stream",
          "name": "stdout",
          "text": [
            "     ##### Chào mừng tới Cờ đam (Checkers) #####     \n",
            "  Lưu ý:\n",
            "1.Bạn cần nhập từng hàng, cột của quân cờ\n",
            "2.Bạn có thể lựa chọn đầu hàng bằng cách nhập 100 vào nhập hàng hiện tại.\n",
            "3.Bạn đã nắm rõ được các quy tắc, hãy tận hưởng trò chơi!!\n",
            " \n",
            "   Player 1: x                      Player 2: o\n",
            " \n",
            "|-----|-----|-----|-----|-----|-----|-----|-----|\n",
            "|     |  x  |     |  x  |     |  x  |     |  x  |  0  \n",
            "|-----|-----|-----|-----|-----|-----|-----|-----|\n",
            "|  x  |     |  x  |     |  x  |     |  x  |     |  1  \n",
            "|-----|-----|-----|-----|-----|-----|-----|-----|\n",
            "|     |  x  |     |  x  |     |  x  |     |  x  |  2  \n",
            "|-----|-----|-----|-----|-----|-----|-----|-----|\n",
            "|     |     |     |     |     |     |     |     |  3  \n",
            "|-----|-----|-----|-----|-----|-----|-----|-----|\n",
            "|     |     |     |     |     |     |     |     |  4  \n",
            "|-----|-----|-----|-----|-----|-----|-----|-----|\n",
            "|  o  |     |  o  |     |  o  |     |  o  |     |  5  \n",
            "|-----|-----|-----|-----|-----|-----|-----|-----|\n",
            "|     |  o  |     |  o  |     |  o  |     |  o  |  6  \n",
            "|-----|-----|-----|-----|-----|-----|-----|-----|\n",
            "|  o  |     |  o  |     |  o  |     |  o  |     |  7  \n",
            "|-----|-----|-----|-----|-----|-----|-----|-----|\n",
            "   0     1     2     3     4     5     6     7   \n",
            "  \n",
            "Số lượt di chuyển của Người chơi 1: 0\n",
            "Số lượt di chuyển của Người chơi 2: 0\n",
            " \n",
            "___________________________________________________\n",
            "Lượt của Player 1:\n",
            "Nhập hàng hiện tại của quân cờ: 2\n",
            "Nhập cột hiện tại của quân cờ: 7\n",
            "Nhập hàng mà bạn muốn di chuyển đến: 3\n",
            "Nhập cột mà bạn muốn di chuyển đến: 6\n",
            "Di chuyển thành công!\n",
            "   Player 1: x                      Player 2: o\n",
            " \n",
            "|-----|-----|-----|-----|-----|-----|-----|-----|\n",
            "|     |  x  |     |  x  |     |  x  |     |  x  |  0  \n",
            "|-----|-----|-----|-----|-----|-----|-----|-----|\n",
            "|  x  |     |  x  |     |  x  |     |  x  |     |  1  \n",
            "|-----|-----|-----|-----|-----|-----|-----|-----|\n",
            "|     |  x  |     |  x  |     |  x  |     |     |  2  \n",
            "|-----|-----|-----|-----|-----|-----|-----|-----|\n",
            "|     |     |     |     |     |     |  x  |     |  3  \n",
            "|-----|-----|-----|-----|-----|-----|-----|-----|\n",
            "|     |     |     |     |     |     |     |     |  4  \n",
            "|-----|-----|-----|-----|-----|-----|-----|-----|\n",
            "|  o  |     |  o  |     |  o  |     |  o  |     |  5  \n",
            "|-----|-----|-----|-----|-----|-----|-----|-----|\n",
            "|     |  o  |     |  o  |     |  o  |     |  o  |  6  \n",
            "|-----|-----|-----|-----|-----|-----|-----|-----|\n",
            "|  o  |     |  o  |     |  o  |     |  o  |     |  7  \n",
            "|-----|-----|-----|-----|-----|-----|-----|-----|\n",
            "   0     1     2     3     4     5     6     7   \n",
            "  \n",
            "Số lượt di chuyển của Người chơi 1: 1\n",
            "Số lượt di chuyển của Người chơi 2: 0\n",
            " \n",
            "___________________________________________________\n",
            "Lượt của Player 2:\n"
          ]
        }
      ],
      "source": [
        "# @title Main\n",
        "\n",
        "data = [\n",
        "    [0, 1, 0, 1, 0, 1, 0, 1],\n",
        "    [1, 0, 1, 0, 1, 0, 1, 0],\n",
        "    [0, 1, 0, 1, 0, 1, 0, 1],\n",
        "    [0, 0, 0, 0, 0, 0, 0, 0],\n",
        "    [0, 0, 0, 0, 0, 0, 0, 0],\n",
        "    [2, 0, 2, 0, 2, 0, 2, 0],\n",
        "    [0, 2, 0, 2, 0, 2, 0, 2],\n",
        "    [2, 0, 2, 0, 2, 0, 2, 0],\n",
        "]\n",
        "\n",
        "print(\"     ##### Chào mừng tới Cờ đam (Checkers) #####     \")\n",
        "print(\"  Lưu ý:\")\n",
        "print(\"1.Bạn cần nhập từng hàng, cột của quân cờ\")\n",
        "print(\"2.Bạn có thể lựa chọn đầu hàng bằng cách nhập 100 vào nhập hàng hiện tại.\")\n",
        "print(\"3.Bạn đã nắm rõ được các quy tắc, hãy tận hưởng trò chơi!!\")\n",
        "print(\" \")\n",
        "p1_count = 0\n",
        "p2_count = 0\n",
        "player = 1\n",
        "\n",
        "while not check_win(data, player):\n",
        "    board(data)\n",
        "    print(\"  \")\n",
        "    print(f\"Số lượt di chuyển của Người chơi 1: {p1_count}\")\n",
        "    print(f\"Số lượt di chuyển của Người chơi 2: {p2_count}\")\n",
        "    if check_win(data, player):\n",
        "        print(f\"Player {3 - player} thắng!\")\n",
        "        sys.exit()\n",
        "    current_row, current_col, target_row, target_col = get_user_move(player)\n",
        "    move_piece(data, player, current_row, current_col, target_row, target_col)\n",
        "    # Chuyển lượt cho người chơi tiếp theo\n",
        "    player = 2 if player == 1 else 1\n"
      ]
    },
    {
      "cell_type": "code",
      "execution_count": null,
      "metadata": {
        "id": "4RqBJ5CxP9_h",
        "colab": {
          "base_uri": "https://localhost:8080/"
        },
        "outputId": "0e93699c-e179-42b3-ecb3-2c72fd3b858d"
      },
      "outputs": [
        {
          "output_type": "execute_result",
          "data": {
            "text/plain": [
              "[[0, 1, 0, 1, 0, 1, 0, 1],\n",
              " [1, 0, 1, 0, 1, 0, 1, 0],\n",
              " [0, 1, 0, 1, 0, 1, 0, 0],\n",
              " [0, 0, 0, 0, 0, 0, 1, 0],\n",
              " [0, 0, 0, 0, 0, 2, 0, 0],\n",
              " [2, 0, 2, 0, 0, 0, 2, 0],\n",
              " [0, 2, 0, 2, 0, 2, 0, 2],\n",
              " [2, 0, 2, 0, 2, 0, 2, 0]]"
            ]
          },
          "metadata": {},
          "execution_count": 50
        }
      ],
      "source": [
        "data"
      ]
    }
  ],
  "metadata": {
    "colab": {
      "provenance": [],
      "include_colab_link": true
    },
    "kernelspec": {
      "display_name": "Python 3",
      "name": "python3"
    },
    "language_info": {
      "name": "python"
    }
  },
  "nbformat": 4,
  "nbformat_minor": 0
}