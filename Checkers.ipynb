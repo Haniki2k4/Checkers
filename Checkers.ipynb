{
  "cells": [
    {
      "cell_type": "markdown",
      "metadata": {
        "id": "p658oFKMlQdA"
      },
      "source": [
        "- lỗi pass lượt nếu nhập sai\n",
        "- ăn cờ (trước tiên ăn 1 trc, chưa cần ăn liên tục)\n",
        "- cờ đến cuối bàn -> đổi cách di chuyển\n",
        "-"
      ]
    },
    {
      "cell_type": "code",
      "execution_count": 1,
      "metadata": {
        "id": "VRXWqn3H_LQk"
      },
      "outputs": [],
      "source": [
        "# @title Board\n",
        "\n",
        "from copy import deepcopy\n",
        "import sys\n",
        "\n",
        "def board(data):\n",
        "    show = deepcopy(data)\n",
        "    for i in range(len(data)):\n",
        "        for j in range(len(data[i])):\n",
        "            if data[i][j] == 0:\n",
        "                show[i][j] = \" \"\n",
        "            elif data[i][j] == 1:\n",
        "                show[i][j] = \"x\"\n",
        "            elif data[i][j] == 2:\n",
        "                show[i][j] = \"o\"\n",
        "            else:\n",
        "                raise Exception(\"Error!\")\n",
        "\n",
        "    print(\"   Player 1: x                      Player 2: o\")\n",
        "    print(\" \")\n",
        "    print(f\"|-----|-----|-----|-----|-----|-----|-----|-----|\")\n",
        "    print(f\"|  {show[0][0]}  |  {show[0][1]}  |  {show[0][2]}  |  {show[0][3]}  |  {show[0][4]}  |  {show[0][5]}  |  {show[0][6]}  |  {show[0][7]}  |  0  \")\n",
        "    print(f\"|-----|-----|-----|-----|-----|-----|-----|-----|\")\n",
        "    print(f\"|  {show[1][0]}  |  {show[1][1]}  |  {show[1][2]}  |  {show[1][3]}  |  {show[1][4]}  |  {show[1][5]}  |  {show[1][6]}  |  {show[1][7]}  |  1  \")\n",
        "    print(f\"|-----|-----|-----|-----|-----|-----|-----|-----|\")\n",
        "    print(f\"|  {show[2][0]}  |  {show[2][1]}  |  {show[2][2]}  |  {show[2][3]}  |  {show[2][4]}  |  {show[2][5]}  |  {show[2][6]}  |  {show[2][7]}  |  2  \")\n",
        "    print(f\"|-----|-----|-----|-----|-----|-----|-----|-----|\")\n",
        "    print(f\"|  {show[3][0]}  |  {show[3][1]}  |  {show[3][2]}  |  {show[3][3]}  |  {show[3][4]}  |  {show[3][5]}  |  {show[3][6]}  |  {show[3][7]}  |  3  \")\n",
        "    print(f\"|-----|-----|-----|-----|-----|-----|-----|-----|\")\n",
        "    print(f\"|  {show[4][0]}  |  {show[4][1]}  |  {show[4][2]}  |  {show[4][3]}  |  {show[4][4]}  |  {show[4][5]}  |  {show[4][6]}  |  {show[4][7]}  |  4  \")\n",
        "    print(f\"|-----|-----|-----|-----|-----|-----|-----|-----|\")\n",
        "    print(f\"|  {show[5][0]}  |  {show[5][1]}  |  {show[5][2]}  |  {show[5][3]}  |  {show[5][4]}  |  {show[5][5]}  |  {show[5][6]}  |  {show[5][7]}  |  5  \")\n",
        "    print(f\"|-----|-----|-----|-----|-----|-----|-----|-----|\")\n",
        "    print(f\"|  {show[6][0]}  |  {show[6][1]}  |  {show[6][2]}  |  {show[6][3]}  |  {show[6][4]}  |  {show[6][5]}  |  {show[6][6]}  |  {show[6][7]}  |  6  \")\n",
        "    print(f\"|-----|-----|-----|-----|-----|-----|-----|-----|\")\n",
        "    print(f\"|  {show[7][0]}  |  {show[7][1]}  |  {show[7][2]}  |  {show[7][3]}  |  {show[7][4]}  |  {show[7][5]}  |  {show[7][6]}  |  {show[7][7]}  |  7  \")\n",
        "    print(f\"|-----|-----|-----|-----|-----|-----|-----|-----|\")\n",
        "    print(f\"   0     1     2     3     4     5     6     7   \")"
      ]
    },
    {
      "cell_type": "code",
      "execution_count": 26,
      "metadata": {
        "id": "yaFGAD-LHM6q"
      },
      "outputs": [],
      "source": [
        "# @title Move\n",
        "\n",
        "def get_user_move(player):\n",
        "    while True:\n",
        "        print(\" \")\n",
        "        print(\"___________________________________________________\")\n",
        "        print(f\"Lượt của Player {player}:\")\n",
        "        try:\n",
        "            current_row = int(input(\"Nhập hàng hiện tại của quân cờ: \"))\n",
        "            if current_row == 100:\n",
        "                print(f\"Player {player} đã đầu hàng! :<<\")\n",
        "                print(f\"Player {3 - player} là người chiến thắng!\")\n",
        "                # exit()\n",
        "                sys.exit()\n",
        "            current_col = int(input(\"Nhập cột hiện tại của quân cờ: \"))\n",
        "            target_row = int(input(\"Nhập hàng mà bạn muốn di chuyển đến: \"))\n",
        "            target_col = int(input(\"Nhập cột mà bạn muốn di chuyển đến: \"))\n",
        "            if (0 <= current_row < 8) and (0 <= current_col < 8) and (0 <= target_row < 8) and (0 <= target_col < 8):\n",
        "                return current_row, current_col, target_row, target_col\n",
        "            else:\n",
        "                print(\"Nước đi không hợp lệ, vui lòng nhập lại!\")\n",
        "        except ValueError:\n",
        "            print(\"Nước đi không hợp lệ, vui lòng nhập lại!\")\n",
        "\n",
        "def move_piece(data, player, current_row, current_col, target_row, target_col):\n",
        "    global p1_count, p2_count\n",
        "    # Kiểm tra vị trí hiện tại có quân cờ của người chơi\n",
        "    if data[current_row][current_col] == player:\n",
        "        if data[target_row][target_col] == 0 and abs(target_row - current_row) == 2 and abs(target_col - current_col) == 2:\n",
        "            if player == 1:\n",
        "                mid_row = current_row + 1\n",
        "                mid_col = int((current_col + target_col) /2)\n",
        "                # print(mid_col,mid_row)\n",
        "            else:\n",
        "                mid_row = current_row - 1\n",
        "                # mid_col = current_col - 1\n",
        "                mid_col = int((current_col - target_col) /2)\n",
        "\n",
        "            if data[mid_row][mid_col] == (3 - player):\n",
        "                if capture_move(data, player, current_row, current_col, target_row, target_col):\n",
        "                    data[target_row][target_col] = player\n",
        "                    data[mid_row][mid_col] = 0\n",
        "                    data[current_row][current_col] = 0\n",
        "                    print(\"Quân cờ đã ăn quân đối phương!\")\n",
        "            elif data[mid_row][mid_col] == player:\n",
        "                print(\"Vị trí đích đã có quân cờ!\")\n",
        "\n",
        "        elif data[target_row][target_col] == 0 and abs(target_row - current_row) == 1 and abs(target_col - current_col) == 1:\n",
        "            if is_valid_move(data, player, current_row, current_col, target_row, target_col):\n",
        "           # Di chuyển quân cờ\n",
        "                data[target_row][target_col] = player\n",
        "                data[current_row][current_col] = 0\n",
        "                print(\"Di chuyển thành công!\")\n",
        "        else:\n",
        "            print(\"Di chuyển không thành công!\")\n",
        "\n",
        "        if player == 1:\n",
        "            p1_count += 1\n",
        "        else:\n",
        "            p2_count += 1\n",
        "    else:\n",
        "        print(\"Không có quân cờ của bạn ở vị trí này!\")"
      ]
    },
    {
      "cell_type": "code",
      "execution_count": 3,
      "metadata": {
        "id": "a8Ct3ijGoxiq"
      },
      "outputs": [],
      "source": [
        "# @title CONDITION\n",
        "\n",
        "def is_valid_move(data, player, current_row, current_col, target_row, target_col):\n",
        "    # Kiểm tra xem vị trí đích có trống không\n",
        "    if player == 1:  # Nếu là người chơi 1 (quân 'x')            # Kiểm tra xem nước đi có phù hợp không\n",
        "        return (target_row > current_row)\n",
        "    elif player == 2:  # Nếu là người chơi 2 (quân 'o')\n",
        "        return (target_row < current_row)\n",
        "\n",
        "def capture_move(data, player, current_row, current_col, target_row, target_col):\n",
        "        # Kiểm tra vị trí chéo thứ 3 và vị trí đích\n",
        "    if player == 1:\n",
        "        return (target_row > current_row)\n",
        "    elif player == 2:\n",
        "        return (target_row < current_row)\n",
        "\n",
        "\n",
        "def check_win(data, player):\n",
        "    # Đếm số quân cờ của mỗi người chơi\n",
        "    p1_pieces = sum(row.count(1) for row in data)\n",
        "    p2_pieces = sum(row.count(2) for row in data)\n",
        "    # Nếu một trong hai người chơi không còn quân cờ, trả về True\n",
        "    if p1_pieces == 0 or p2_pieces == 0:\n",
        "        return True\n",
        "    return False"
      ]
    },
    {
      "cell_type": "code",
      "source": [
        "# !pip install colorama\n",
        "'''print(Fore.RED +\"\"\"4.Điều quan trọng phải nhắc lại 3 lần:\n",
        "           NHỚ ĐIỀN ĐÚNG Ô\n",
        "           NHỚ ĐIỀN ĐÚNG Ô\n",
        "           NHỚ ĐIỀN ĐÚNG Ô\"\"\"+ Style.RESET_ALL)'''"
      ],
      "metadata": {
        "colab": {
          "base_uri": "https://localhost:8080/"
        },
        "id": "vLqM7Ul0GFS-",
        "outputId": "9bb9bd0e-5b4f-484e-f36d-cf297cf1c8d8"
      },
      "execution_count": 30,
      "outputs": [
        {
          "output_type": "stream",
          "name": "stdout",
          "text": [
            "Collecting colorama\n",
            "  Downloading colorama-0.4.6-py2.py3-none-any.whl (25 kB)\n",
            "Installing collected packages: colorama\n",
            "Successfully installed colorama-0.4.6\n"
          ]
        }
      ]
    },
    {
      "cell_type": "code",
      "execution_count": 33,
      "metadata": {
        "colab": {
          "base_uri": "https://localhost:8080/",
          "height": 870
        },
        "id": "4cyrbQHVEzwk",
        "outputId": "b229e8f7-c845-4bd2-b1ac-6c80be04ba3b"
      },
      "outputs": [
        {
          "output_type": "stream",
          "name": "stdout",
          "text": [
            "     ##### Chào mừng tới Cờ đam (Checkers) #####     \n",
            "  Lưu ý:\n",
            "1.Bạn cần nhập từng hàng, cột của quân cờ\n",
            "2.Bạn có thể lựa chọn đầu hàng bằng cách nhập 100 vào ô nhập hàng hiện tại.\n",
            "3.Bạn cần phải nhập đúng vị trí và đúng ô cần đến nếu không sẽ bị mất lượt.\n",
            "4.Điều quan trọng phải nhắc lại 3 lần:\n",
            "           NHỚ ĐIỀN ĐÚNG Ô\n",
            "           NHỚ ĐIỀN ĐÚNG Ô\n",
            "           NHỚ ĐIỀN ĐÚNG Ô\n",
            "5.Bạn đã nắm rõ được các quy tắc, hãy tận hưởng trò chơi!!\n",
            " \n",
            "   Player 1: x                      Player 2: o\n",
            " \n",
            "|-----|-----|-----|-----|-----|-----|-----|-----|\n",
            "|     |  x  |     |  x  |     |  x  |     |  x  |  0  \n",
            "|-----|-----|-----|-----|-----|-----|-----|-----|\n",
            "|  x  |     |  x  |     |  x  |     |  x  |     |  1  \n",
            "|-----|-----|-----|-----|-----|-----|-----|-----|\n",
            "|     |  x  |     |  x  |     |  x  |     |  x  |  2  \n",
            "|-----|-----|-----|-----|-----|-----|-----|-----|\n",
            "|     |     |     |     |     |     |     |     |  3  \n",
            "|-----|-----|-----|-----|-----|-----|-----|-----|\n",
            "|     |     |     |     |     |     |     |     |  4  \n",
            "|-----|-----|-----|-----|-----|-----|-----|-----|\n",
            "|  o  |     |  o  |     |  o  |     |  o  |     |  5  \n",
            "|-----|-----|-----|-----|-----|-----|-----|-----|\n",
            "|     |  o  |     |  o  |     |  o  |     |  o  |  6  \n",
            "|-----|-----|-----|-----|-----|-----|-----|-----|\n",
            "|  o  |     |  o  |     |  o  |     |  o  |     |  7  \n",
            "|-----|-----|-----|-----|-----|-----|-----|-----|\n",
            "   0     1     2     3     4     5     6     7   \n",
            "  \n",
            "Số lượt di chuyển của Người chơi 1: 0\n",
            "Số lượt di chuyển của Người chơi 2: 0\n",
            " \n",
            "___________________________________________________\n",
            "Lượt của Player 1:\n",
            "Nhập hàng hiện tại của quân cờ: 100\\\n",
            "Nước đi không hợp lệ, vui lòng nhập lại!\n",
            " \n",
            "___________________________________________________\n",
            "Lượt của Player 1:\n",
            "Nhập hàng hiện tại của quân cờ: 100\n",
            "Player 1 đã đầu hàng! :<<\n",
            "Player 2 là người chiến thắng!\n"
          ]
        },
        {
          "output_type": "error",
          "ename": "SystemExit",
          "evalue": "",
          "traceback": [
            "An exception has occurred, use %tb to see the full traceback.\n",
            "\u001b[0;31mSystemExit\u001b[0m\n"
          ]
        }
      ],
      "source": [
        "# @title Main\n",
        "from colorama import Fore, Back, Style\n",
        "data = [\n",
        "    [0, 1, 0, 1, 0, 1, 0, 1],\n",
        "    [1, 0, 1, 0, 1, 0, 1, 0],\n",
        "    [0, 1, 0, 1, 0, 1, 0, 1],\n",
        "    [0, 0, 0, 0, 0, 0, 0, 0],\n",
        "    [0, 0, 0, 0, 0, 0, 0, 0],\n",
        "    [2, 0, 2, 0, 2, 0, 2, 0],\n",
        "    [0, 2, 0, 2, 0, 2, 0, 2],\n",
        "    [2, 0, 2, 0, 2, 0, 2, 0],\n",
        "]\n",
        "\n",
        "print(\"     ##### Chào mừng tới Cờ đam (Checkers) #####     \")\n",
        "print(\"  Lưu ý:\")\n",
        "print(\"1.Bạn cần nhập từng hàng, cột của quân cờ\")\n",
        "print(\"2.Bạn có thể lựa chọn đầu hàng bằng cách nhập 100 vào ô nhập hàng hiện tại.\")\n",
        "print(\"3.Bạn cần phải nhập đúng vị trí và đúng ô cần đến nếu không sẽ bị mất lượt.\")\n",
        "print(\"\"\"4.Điều quan trọng phải nhắc lại 3 lần:\n",
        "           NHỚ ĐIỀN ĐÚNG Ô\n",
        "           NHỚ ĐIỀN ĐÚNG Ô\n",
        "           NHỚ ĐIỀN ĐÚNG Ô\"\"\")\n",
        "print(\"5.Bạn đã nắm rõ được các quy tắc, hãy tận hưởng trò chơi!!\")\n",
        "print(\" \")\n",
        "p1_count = 0\n",
        "p2_count = 0\n",
        "player = 1\n",
        "\n",
        "while not check_win(data, player):\n",
        "    board(data)\n",
        "    print(\"  \")\n",
        "    print(f\"Số lượt di chuyển của Người chơi 1: {p1_count}\")\n",
        "    print(f\"Số lượt di chuyển của Người chơi 2: {p2_count}\")\n",
        "    if check_win(data, player):\n",
        "        print(f\"Player {3 - player} thắng!\")\n",
        "        sys.exit()\n",
        "    current_row, current_col, target_row, target_col = get_user_move(player)\n",
        "    move_piece(data, player, current_row, current_col, target_row, target_col)\n",
        "    # Chuyển lượt cho người chơi tiếp theo\n",
        "    player = 2 if player == 1 else 1\n"
      ]
    },
    {
      "cell_type": "code",
      "execution_count": 8,
      "metadata": {
        "colab": {
          "base_uri": "https://localhost:8080/"
        },
        "id": "4RqBJ5CxP9_h",
        "outputId": "c7a59415-39fb-49e3-ec70-77cd5e6dbd17"
      },
      "outputs": [
        {
          "output_type": "execute_result",
          "data": {
            "text/plain": [
              "[[0, 1, 0, 1, 0, 1, 0, 1],\n",
              " [1, 0, 1, 0, 1, 0, 1, 0],\n",
              " [0, 1, 0, 1, 0, 1, 0, 0],\n",
              " [0, 0, 0, 0, 0, 0, 0, 0],\n",
              " [0, 0, 0, 0, 0, 0, 0, 0],\n",
              " [2, 0, 2, 0, 1, 0, 2, 0],\n",
              " [0, 2, 0, 2, 0, 2, 0, 2],\n",
              " [2, 0, 2, 0, 2, 0, 2, 0]]"
            ]
          },
          "metadata": {},
          "execution_count": 8
        }
      ],
      "source": [
        "data"
      ]
    }
  ],
  "metadata": {
    "colab": {
      "provenance": []
    },
    "kernelspec": {
      "display_name": "Python 3",
      "name": "python3"
    },
    "language_info": {
      "name": "python"
    }
  },
  "nbformat": 4,
  "nbformat_minor": 0
}